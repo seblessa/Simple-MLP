{
 "cells": [
  {
   "cell_type": "markdown",
   "source": [
    "# Machine Learning"
   ],
   "metadata": {
    "collapsed": false
   },
   "id": "5d7847d700272451"
  },
  {
   "cell_type": "markdown",
   "source": [
    "Use pandas to read the dataset and convert it to a numpy array"
   ],
   "metadata": {
    "collapsed": false
   },
   "id": "93ff55ecb9aababf"
  },
  {
   "cell_type": "code",
   "execution_count": 1,
   "outputs": [],
   "source": [
    "import pandas as pd\n",
    "\n",
    "data_test = pd.read_csv('dataset/mnist_test.csv')\n",
    "data_train = pd.read_csv('dataset/mnist_train.csv')"
   ],
   "metadata": {
    "collapsed": false,
    "ExecuteTime": {
     "end_time": "2024-01-21T13:06:16.618702Z",
     "start_time": "2024-01-21T13:06:14.731455Z"
    }
   },
   "id": "fce3444b594c7d99"
  },
  {
   "cell_type": "code",
   "execution_count": 2,
   "outputs": [],
   "source": [
    "import numpy as np\n",
    "\n",
    "data_test = np.array(data_test).T\n",
    "Y_test = data_test[0]\n",
    "X_test = data_test[1:]\n",
    "X_test = X_test / 255.\n",
    "\n",
    "data_train = np.array(data_train).T\n",
    "Y_train = data_train[0]\n",
    "X_train = data_train[1:]\n",
    "X_train = X_train / 255."
   ],
   "metadata": {
    "collapsed": false,
    "ExecuteTime": {
     "end_time": "2024-01-21T13:06:16.939772Z",
     "start_time": "2024-01-21T13:06:16.618702Z"
    }
   },
   "id": "41e949139dbc80af"
  },
  {
   "cell_type": "markdown",
   "source": [
    "Let's instanciate the output size and the input size to give to my MLP"
   ],
   "metadata": {
    "collapsed": false
   },
   "id": "590b7d18b5afdd88"
  },
  {
   "cell_type": "code",
   "outputs": [
    {
     "data": {
      "text/plain": "784"
     },
     "execution_count": 3,
     "metadata": {},
     "output_type": "execute_result"
    }
   ],
   "source": [
    "input_size = X_train.shape[0]\n",
    "input_size"
   ],
   "metadata": {
    "collapsed": false,
    "ExecuteTime": {
     "end_time": "2024-01-21T13:06:16.943250Z",
     "start_time": "2024-01-21T13:06:16.939508Z"
    }
   },
   "id": "c989496204e6c1b",
   "execution_count": 3
  },
  {
   "cell_type": "code",
   "outputs": [
    {
     "data": {
      "text/plain": "10"
     },
     "execution_count": 4,
     "metadata": {},
     "output_type": "execute_result"
    }
   ],
   "source": [
    "output_size = int(pd.DataFrame(Y_train).nunique().iloc[0])\n",
    "output_size"
   ],
   "metadata": {
    "collapsed": false,
    "ExecuteTime": {
     "end_time": "2024-01-21T13:06:16.952266Z",
     "start_time": "2024-01-21T13:06:16.943940Z"
    }
   },
   "id": "5772c8e2081037a8",
   "execution_count": 4
  },
  {
   "cell_type": "markdown",
   "source": [
    "Let's see a sample image"
   ],
   "metadata": {
    "collapsed": false
   },
   "id": "880e4fea8536a8a7"
  },
  {
   "cell_type": "code",
   "execution_count": 5,
   "outputs": [],
   "source": [
    "import matplotlib.pyplot as plt\n",
    "\n",
    "def show_image(X, Y, index):\n",
    "    current_image = X[:, index, None]\n",
    "    label = Y[index]\n",
    "    print(\"Label: \", label)\n",
    "    current_image = current_image.reshape((28, 28)) * 255\n",
    "    plt.gray()\n",
    "    plt.imshow(current_image, interpolation='nearest')\n",
    "    plt.show()"
   ],
   "metadata": {
    "collapsed": false,
    "ExecuteTime": {
     "end_time": "2024-01-21T13:06:17.172551Z",
     "start_time": "2024-01-21T13:06:16.948691Z"
    }
   },
   "id": "812384a1b60b390b"
  },
  {
   "cell_type": "code",
   "execution_count": 6,
   "outputs": [
    {
     "name": "stdout",
     "output_type": "stream",
     "text": [
      "Label:  6\n"
     ]
    },
    {
     "data": {
      "text/plain": "<Figure size 640x480 with 1 Axes>",
      "image/png": "[encoded data removed]"
     },
     "metadata": {},
     "output_type": "display_data"
    }
   ],
   "source": [
    "show_image(X_train, Y_train, np.random.randint(0, X_train.shape[1]-1))"
   ],
   "metadata": {
    "collapsed": false,
    "ExecuteTime": {
     "end_time": "2024-01-21T13:06:17.246826Z",
     "start_time": "2024-01-21T13:06:17.174920Z"
    }
   },
   "id": "75fff6c0b4c89e80"
  },
  {
   "cell_type": "markdown",
   "source": [
    "***Custom MLP Explanation***\n",
    "\n",
    "The simpler MLP we can create has the input, one hidden layer and one output layer. In this case, the input size will be 784 units corresponding to the 784 pixels in each 28x28 input image. \n",
    "\n",
    "The first hidden layer will have the same size as the input. The rest will depend on the number of hidden layers and the output size, with each subsequent hidden layer decreasing in size. \n",
    "\n",
    "And finally, our output layer will have 10 units corresponding to the ten digits with softmax activation.\n",
    "\n",
    "You can have as many hidden layers as you want. Just change the atribute ***n_hidden_layers*** when instanciating the MLP. The minimum is *1* and there is virtually no limit.\n",
    "\n",
    "But keep in mind, the higher the number, the longer it takes to train the model. And it's not always best for performance to increase this number as much as possible."
   ],
   "metadata": {
    "collapsed": false
   },
   "id": "149d36b30db523d2"
  },
  {
   "cell_type": "markdown",
   "source": [
    "***How it works:***\n",
    "\n",
    "<br/>\n",
    "\n",
    "Z = Deactivated layer value\n",
    "\n",
    "A = Activated layer value\n",
    "\n",
    "W = Weights\n",
    "\n",
    "b = Bias\n",
    "\n",
    "X = input\n",
    "\n",
    "Y = correct output values\n",
    "\n",
    "m = X.shape[1] (number of training examples)\n",
    "\n",
    "0 = first index\n",
    "\n",
    "n = hidden layer indexes\n",
    "\n",
    "-2 = index before last index\n",
    "\n",
    "-1 = last index\n",
    "\n",
    "<br/>\n",
    "\n",
    "**Forward propagation**\n",
    "\n",
    "$$Z^{[0]} = W^{[0]} X + b^{[0]}$$\n",
    "$$A^{[0]} = {\\text{ReLU}}(Z^{[0]})$$\n",
    "<br/>\n",
    "$$Z^{[n]} = W^{[n]} A^{[n-1]} + b^{[n]}$$\n",
    "$$A^{[n]} = {\\text{ReLU}}(Z^{[n]})$$\n",
    "<br/>\n",
    "$$Z^{[-1]} = W^{[-1]} A^{[-2]} + b^{[-1]}$$\n",
    "$$A^{[-1]} = {\\text{softmax}}(Z^{[-1]})$$\n",
    "\n",
    "<br/>\n",
    "\n",
    "**Backward propagation**\n",
    "\n",
    "$$dZ^{[-1]} = A^{[-1]} - Y$$\n",
    "$$dW^{[-1]} = \\frac{1}{m} dZ^{[-1]} A^{[-2]T}$$\n",
    "$$dB^{[-1]} = \\frac{1}{m} \\Sigma {dZ^{[-1]}}$$\n",
    "<br/>\n",
    "$$dZ^{[n]} = W^{[n+1]T} dZ^{[n+1]} .* g^{[n]\\prime} (z^{[n]})$$\n",
    "$$dW^{[n]} = \\frac{1}{m} dZ^{[n]} A^{[n-1]T}$$\n",
    "$$dB^{[n]} = \\frac{1}{m} \\Sigma {dZ^{[n]}}$$\n",
    "<br/>\n",
    "$$dZ^{[0]} = W^{[1]T} dZ^{[1]} .* g^{[0]\\prime} (z^{[0]})$$\n",
    "$$dW^{[0]} = \\frac{1}{m} dZ^{[0]} X^{T}$$\n",
    "$$dB^{[0]} = \\frac{1}{m} \\Sigma {dZ^{[0]}}$$\n",
    "\n",
    "<br/>\n",
    "\n",
    "**Parameter updates**\n",
    "\n",
    "$$W^{[-1]} = W^{[2]} - \\alpha dW^{[-1]}$$\n",
    "$$b^{[-1]} = b^{[2]} - \\alpha db^{[-1]}$$\n",
    "<br/>\n",
    "$$W^{[n]} = W^{[n]} - \\alpha dW^{[n]}$$\n",
    "$$b^{[n]} = b^{[n]} - \\alpha db^{[n]}$$\n",
    "<br/>\n",
    "$$W^{[0]} = W^{[1]} - \\alpha dW^{[0]}$$\n",
    "$$b^{[0]} = b^{[1]} - \\alpha db^{[0]}$$\n",
    "\n",
    "<br/>\n",
    "<br/>\n",
    "<br/>\n",
    "\n",
    "Finally, let's instanciate the MLP. Let's try from *1* to *3* hidden layers for *500* epochs."
   ],
   "metadata": {
    "collapsed": false
   },
   "id": "f65ffe1fca0c903a"
  },
  {
   "cell_type": "code",
   "outputs": [],
   "source": [
    "args = {\n",
    "    \"n_hidden_layers\": [1,2,3,4],\n",
    "    \"learning_rate\": [0.1,0.2,0.4,0.6,0.8]\n",
    "}"
   ],
   "metadata": {
    "collapsed": false,
    "ExecuteTime": {
     "end_time": "2024-01-21T13:06:17.370547Z",
     "start_time": "2024-01-21T13:06:17.286887Z"
    }
   },
   "id": "f4abcc83812ee294",
   "execution_count": 7
  },
  {
   "cell_type": "code",
   "outputs": [],
   "source": [
    "def get_accuracy(pred, Y):\n",
    "    return np.sum(pred == Y) / Y.size"
   ],
   "metadata": {
    "collapsed": false,
    "ExecuteTime": {
     "end_time": "2024-01-21T13:06:17.406534Z",
     "start_time": "2024-01-21T13:06:17.287484Z"
    }
   },
   "id": "1df710f237ba16aa",
   "execution_count": 8
  },
  {
   "cell_type": "code",
   "outputs": [],
   "source": [
    "from MLP import MLP\n",
    "\n",
    "def train_and_test():\n",
    "    best_accuracy = 0\n",
    "    best_n_hidden_layers = 0\n",
    "    best_learning_rate = 0\n",
    "    \n",
    "    for n_hidden_layers in args[\"n_hidden_layers\"]:\n",
    "        for learning_rate in args[\"learning_rate\"]:\n",
    "            mlp = MLP(input_size=input_size,\n",
    "                      output_size=output_size,\n",
    "                      n_hidden_layers=n_hidden_layers,\n",
    "                      learning_rate=learning_rate)\n",
    "            mlp.train(X_train, Y_train,\n",
    "                      epochs=1000,\n",
    "                      verbose=False)\n",
    "            \n",
    "            accuracy = get_accuracy(mlp.predict(X_test),Y_test)\n",
    "            \n",
    "            if accuracy > best_accuracy:\n",
    "                best_accuracy = accuracy\n",
    "                best_n_hidden_layers = n_hidden_layers\n",
    "                best_learning_rate = learning_rate\n",
    "                \n",
    "    print(f\"Best number of hidden layers: {best_n_hidden_layers}\")\n",
    "    print(f\"Best learning rate: {best_learning_rate}\")\n",
    "    return best_n_hidden_layers, best_learning_rate"
   ],
   "metadata": {
    "collapsed": false,
    "ExecuteTime": {
     "end_time": "2024-01-21T13:06:17.408024Z",
     "start_time": "2024-01-21T13:06:17.292416Z"
    }
   },
   "id": "e4f9f74cf0b48549",
   "execution_count": 9
  },
  {
   "cell_type": "code",
   "outputs": [
    {
     "name": "stdout",
     "output_type": "stream",
     "text": [
      "Best number of hidden layers: 3\n",
      "Best learning rate: 0.6\n",
      "Epoch: 0 | Accuracy: 0.1286\n",
      "Epoch: 100 | Accuracy: 0.8067\n",
      "Epoch: 200 | Accuracy: 0.8925\n",
      "Epoch: 300 | Accuracy: 0.9146\n",
      "Epoch: 400 | Accuracy: 0.9245\n",
      "Epoch: 500 | Accuracy: 0.9342\n",
      "Epoch: 600 | Accuracy: 0.9354\n",
      "Epoch: 700 | Accuracy: 0.9446\n",
      "Epoch: 800 | Accuracy: 0.9485\n",
      "Epoch: 900 | Accuracy: 0.942\n",
      "Epoch: 1000 | Accuracy: 0.9536\n",
      "Final accuracy: 0.9429\n"
     ]
    }
   ],
   "source": [
    "final_n_hidden_layers, final_learning_rate = train_and_test()\n",
    "final_mlp = MLP(input_size=input_size,\n",
    "                output_size=output_size,\n",
    "                n_hidden_layers=final_n_hidden_layers,\n",
    "                learning_rate=final_learning_rate)\n",
    "final_mlp.train(X_train, Y_train,epochs=1000,verbose=True)\n",
    "predictions = final_mlp.predict(X_test)\n",
    "print(f\"Final accuracy: {get_accuracy(predictions,Y_test)}\")"
   ],
   "metadata": {
    "collapsed": false,
    "ExecuteTime": {
     "end_time": "2024-01-21T14:06:07.752740Z",
     "start_time": "2024-01-21T13:06:17.305622Z"
    }
   },
   "id": "446a3b9678d2dae7",
   "execution_count": 10
  },
  {
   "cell_type": "markdown",
   "source": [
    "We got a final accuracy of ~94% which is great!!\n",
    "\n",
    "<br>\n",
    "\n",
    "Let's check some individual examples:"
   ],
   "metadata": {
    "collapsed": false
   },
   "id": "658e60a8408c1f41"
  },
  {
   "cell_type": "code",
   "execution_count": 11,
   "outputs": [],
   "source": [
    "def test_prediction(X, Y, prediction, index):\n",
    "    print(\"Prediction: \", prediction[index])\n",
    "    show_image(X, Y, index)"
   ],
   "metadata": {
    "collapsed": false,
    "ExecuteTime": {
     "end_time": "2024-01-21T14:06:07.775190Z",
     "start_time": "2024-01-21T14:06:07.758229Z"
    }
   },
   "id": "f3c586ffce2ad73f"
  },
  {
   "cell_type": "code",
   "execution_count": 15,
   "outputs": [
    {
     "name": "stdout",
     "output_type": "stream",
     "text": [
      "Prediction:  7\n",
      "Label:  7\n"
     ]
    },
    {
     "data": {
      "text/plain": "<Figure size 640x480 with 1 Axes>",
      "image/png": "[encoded data removed]"
     },
     "metadata": {},
     "output_type": "display_data"
    },
    {
     "name": "stdout",
     "output_type": "stream",
     "text": [
      "Prediction:  0\n",
      "Label:  0\n"
     ]
    },
    {
     "data": {
      "text/plain": "<Figure size 640x480 with 1 Axes>",
      "image/png": "[encoded data removed]"
     },
     "metadata": {},
     "output_type": "display_data"
    },
    {
     "name": "stdout",
     "output_type": "stream",
     "text": [
      "Prediction:  8\n",
      "Label:  8\n"
     ]
    },
    {
     "data": {
      "text/plain": "<Figure size 640x480 with 1 Axes>",
      "image/png": "[encoded data removed]"
     },
     "metadata": {},
     "output_type": "display_data"
    },
    {
     "name": "stdout",
     "output_type": "stream",
     "text": [
      "Prediction:  6\n",
      "Label:  6\n"
     ]
    },
    {
     "data": {
      "text/plain": "<Figure size 640x480 with 1 Axes>",
      "image/png": "[encoded data removed]"
     },
     "metadata": {},
     "output_type": "display_data"
    },
    {
     "name": "stdout",
     "output_type": "stream",
     "text": [
      "Prediction:  4\n",
      "Label:  4\n"
     ]
    },
    {
     "data": {
      "text/plain": "<Figure size 640x480 with 1 Axes>",
      "image/png": "[encoded data removed]"
     },
     "metadata": {},
     "output_type": "display_data"
    }
   ],
   "source": [
    "test_prediction(X_test, Y_test, predictions, index=np.random.randint(0, X_test.shape[1]-1))\n",
    "test_prediction(X_test, Y_test, predictions, index=np.random.randint(0, X_test.shape[1]-1))\n",
    "test_prediction(X_test, Y_test, predictions, index=np.random.randint(0, X_test.shape[1]-1))\n",
    "test_prediction(X_test, Y_test, predictions, index=np.random.randint(0, X_test.shape[1]-1))\n",
    "test_prediction(X_test, Y_test, predictions, index=np.random.randint(0, X_test.shape[1]-1))"
   ],
   "metadata": {
    "collapsed": false,
    "ExecuteTime": {
     "end_time": "2024-01-21T14:27:41.969126Z",
     "start_time": "2024-01-21T14:27:41.505776Z"
    }
   },
   "id": "1312b2c0ec42a7d4"
  },
  {
   "cell_type": "code",
   "outputs": [],
   "source": [],
   "metadata": {
    "collapsed": false,
    "ExecuteTime": {
     "end_time": "2024-01-21T14:06:08.213580Z",
     "start_time": "2024-01-21T14:06:08.191076Z"
    }
   },
   "id": "ae99ed0594a4cea9",
   "execution_count": 12
  }
 ],
 "metadata": {
  "kernelspec": {
   "display_name": "Python 3",
   "language": "python",
   "name": "python3"
  },
  "language_info": {
   "codemirror_mode": {
    "name": "ipython",
    "version": 2
   },
   "file_extension": ".py",
   "mimetype": "text/x-python",
   "name": "python",
   "nbconvert_exporter": "python",
   "pygments_lexer": "ipython2",
   "version": "2.7.6"
  }
 },
 "nbformat": 4,
 "nbformat_minor": 5
}
